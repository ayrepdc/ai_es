{
 "cells": [
  {
   "cell_type": "code",
   "execution_count": 2,
   "metadata": {},
   "outputs": [
    {
     "name": "stdout",
     "output_type": "stream",
     "text": [
      "No\n"
     ]
    }
   ],
   "source": [
    "\n",
    "# Simple Python code for check a matrix is\n",
    "# symmetric or not.\n",
    "  \n",
    "# Fills transpose of mat[N][N] in tr[N][N]\n",
    "def transpose(mat, tr, N):\n",
    "    for i in range(N):\n",
    "        for j in range(N):\n",
    "            tr[i][j] = mat[j][i]\n",
    "  \n",
    "# Returns true if mat[N][N] is symmetric, else false\n",
    "def isSymmetric(mat, N):\n",
    "     \n",
    "    tr = [ [0 for j in range(len(mat[0])) ] for i in range(len(mat)) ]\n",
    "    transpose(mat, tr, N)\n",
    "    for i in range(N):\n",
    "        for j in range(N):\n",
    "            if (mat[i][j] != tr[i][j]):\n",
    "                return False\n",
    "    return True\n",
    "  \n",
    "# Driver code\n",
    "mat = [ [ 6, -1, 4 ], [ -7, 4, 1 ], [ 4, 1, 4 ] ]\n",
    "if (isSymmetric(mat, 3)):\n",
    "    print(\"Yes\")\n",
    "else:\n",
    "    print(\"No\")"
   ]
  },
  {
   "cell_type": "code",
   "execution_count": null,
   "metadata": {},
   "outputs": [],
   "source": []
  }
 ],
 "metadata": {
  "kernelspec": {
   "display_name": "Python 3",
   "language": "python",
   "name": "python3"
  },
  "language_info": {
   "codemirror_mode": {
    "name": "ipython",
    "version": 3
   },
   "file_extension": ".py",
   "mimetype": "text/x-python",
   "name": "python",
   "nbconvert_exporter": "python",
   "pygments_lexer": "ipython3",
   "version": "3.8.5"
  }
 },
 "nbformat": 4,
 "nbformat_minor": 4
}
